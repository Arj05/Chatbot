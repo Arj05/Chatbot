{
  "nbformat": 4,
  "nbformat_minor": 0,
  "metadata": {
    "colab": {
      "name": "Chatbot.ipynb",
      "provenance": []
    },
    "kernelspec": {
      "name": "python3",
      "display_name": "Python 3"
    }
  },
  "cells": [
    {
      "cell_type": "code",
      "metadata": {
        "id": "RBcdqppqKrxe",
        "colab_type": "code",
        "colab": {}
      },
      "source": [
        "from nltk.chat.util import Chat, reflections\n",
        "import requests\n",
        "import time\n",
        "from datetime import datetime\n"
      ],
      "execution_count": 0,
      "outputs": []
    },
    {
      "cell_type": "code",
      "metadata": {
        "id": "DoHomcWKKvCL",
        "colab_type": "code",
        "colab": {}
      },
      "source": [
        "#The URL Ticker to get the .json files of the crypto currencies\n",
        "TICKER_URL = 'https://api.coinmarketcap.com/v1/ticker/'\n"
      ],
      "execution_count": 0,
      "outputs": []
    },
    {
      "cell_type": "code",
      "metadata": {
        "id": "QAIHDfrKKzPq",
        "colab_type": "code",
        "colab": {}
      },
      "source": [
        "#Function to get the latest crypto currency price of a specific 'crypto' e.g bitcoin, litecoin, etc.\n",
        "# crypto = {bitcoin, litecoin, etherium, ...}\n",
        "def get_latest_crypto_price( crypto ):\n",
        "    response = requests.get(TICKER_URL+crypto+'/')\n",
        "    response_json = response.json()\n",
        "    # Convert the price to a floating point number\n",
        "    return float(response_json[0]['price_usd'])"
      ],
      "execution_count": 0,
      "outputs": []
    },
    {
      "cell_type": "code",
      "metadata": {
        "id": "7Go5s-iIK14N",
        "colab_type": "code",
        "colab": {}
      },
      "source": [
        "#Pairs is a list of patterns and responses.\n",
        "pairs = [\n",
        "    [\n",
        "        r\"my name is (.*)\",\n",
        "        [\"Hello %1, How are you today ?\",]\n",
        "    ],\n",
        "     \n",
        "    [\n",
        "        r\"(.*)help(.*) \",\n",
        "        [\"I can help you \",]\n",
        "    ],\n",
        "     [\n",
        "        r\"(.*) your name ?\",\n",
        "        [\"I'm Arjun's bot like in Iron Man, but you can just call me kiddo  and I'm a chatbot \",]\n",
        "    ],\n",
        "    [\n",
        "        r\"how are you ?\",\n",
        "        [\"I'm doing very well\",]\n",
        "    ],\n",
        "    [\n",
        "        r\"sorry (.*)\",\n",
        "        [\"Its alright\",\"Its OK, never mind that\",]\n",
        "    ],\n",
        "    [\n",
        "        r\"i'm (.*) doing good\",\n",
        "        [\"Nice to hear that\",\"Alright, great !\",]\n",
        "    ],\n",
        "    [\n",
        "        r\"(hi|hey|hello|hola|holla)(.*)\",\n",
        "        [\"Hello\", \"Hey there\",]\n",
        "    ],\n",
        "    [\n",
        "        r\"what (.*) want ?\",\n",
        "        [\"Make me an offer I can't refuse\",]\n",
        "        \n",
        "    ],\n",
        "    [\n",
        "        r\"(.*) created ?\",\n",
        "        [\"Arjun Gogoi created me,its a secret\"]\n",
        "    ],\n",
        "    [\n",
        "        r\"(.*) (location|city) ?\",\n",
        "        ['ASSAM,SIVASAGAR, INDIA',]\n",
        "    ],\n",
        "    [\n",
        "        r\"how is the weather in (.*)?\",\n",
        "        [\"Weather in %1 is amazing like always\",\"It's hot here in %1\",\"It's chilli here in %1\", \"In %1 there is a 50% chance of rain\",]\n",
        "    ],\n",
        "    [\n",
        "        r\"i work (in|at)  (.*)?\",\n",
        "        [\"%1 is an amazing company, I loved it.\",]\n",
        "    ],\n",
        "[\n",
        "        r\"(.*)raining in (.*)\",\n",
        "        [\"No rain in the past 4 days here in %2\",\"In %2 there is a 50% chance of rain\",]\n",
        "    ],\n",
        "    [\n",
        "        r\"is it (.*) in (.*)\",\n",
        "        [\"No its not %1 in %2\",\"It could be\", \"Yes its %1 in %2\"]\n",
        "    ],\n",
        "    [\n",
        "        r\"how (.*) health (.*)\",\n",
        "        [\"Health is very important, but I am a computer, so I don't need to worry about my health \",]\n",
        "    ],\n",
        "    [\n",
        "        r\"(.*)(sports|game|sport)(.*)\",\n",
        "        [\"I'm a very big fan of Basketball\",]\n",
        "    ],\n",
        "    [\n",
        "        r\"who (.*) sportsperson ?\",\n",
        "        [\"Messy\",\"LeBron\", \"D-Wade\"]\n",
        "],\n",
        "    [\n",
        "        r\"who (.*) (moviestar|actor|actress)?\",\n",
        "        [\"Zendaya\"]\n",
        "],\n",
        "    [\n",
        "        r\"ok then\",\n",
        "        [\"Bye for now. See you soon :) \",\"It was nice talking to you. See you soon :)\"]\n",
        "],\n",
        "]"
      ],
      "execution_count": 0,
      "outputs": []
    },
    {
      "cell_type": "code",
      "metadata": {
        "id": "F5hlIsM-K6nC",
        "colab_type": "code",
        "colab": {}
      },
      "source": [
        "#A Function to run the chatbot\n",
        "def chatty():\n",
        "  print(\"Hi, I'm ARJUN's CHATBOT and I want to help and chat with you ! \") #default message at the start\n",
        "  chat = Chat(pairs, reflections )\n",
        "  \n",
        " \n",
        "  chat.converse()"
      ],
      "execution_count": 0,
      "outputs": []
    },
    {
      "cell_type": "code",
      "metadata": {
        "id": "QsnAVK64LAw-",
        "colab_type": "code",
        "outputId": "11c84f30-4696-4449-97d4-349a89fa4a86",
        "colab": {
          "base_uri": "https://localhost:8080/",
          "height": 173
        }
      },
      "source": [
        "chatty()\n"
      ],
      "execution_count": 0,
      "outputs": [
        {
          "output_type": "stream",
          "text": [
            "Hi, I'm ARJUN's CHATBOT and I want to help and chat with you ! \n",
            "Hey there\n",
            "I'm doing very well\n",
            "I'm Arjun's bot like in Iron Man, but you can just call me kiddo  and I'm a chatbot \n",
            "I can help you \n",
            "Arjun Gogoi created me,its a secret\n",
            "ASSAM,SIVASAGAR, INDIA\n",
            "Weather in assam is amazing like always\n",
            "It was nice talking to you. See you soon :)\n"
          ],
          "name": "stdout"
        }
      ]
    },
    {
      "cell_type": "code",
      "metadata": {
        "id": "i9HkP0dgLGfF",
        "colab_type": "code",
        "colab": {}
      },
      "source": [
        ""
      ],
      "execution_count": 0,
      "outputs": []
    }
  ]
}